{
  "nbformat": 4,
  "nbformat_minor": 0,
  "metadata": {
    "colab": {
      "name": "TASK 1.ipynb",
      "provenance": [],
      "collapsed_sections": [],
      "authorship_tag": "ABX9TyO0xCukw90VFm74pMM8I7J3",
      "include_colab_link": true
    },
    "kernelspec": {
      "name": "python3",
      "display_name": "Python 3"
    }
  },
  "cells": [
    {
      "cell_type": "markdown",
      "metadata": {
        "id": "view-in-github",
        "colab_type": "text"
      },
      "source": [
        "<a href=\"https://colab.research.google.com/github/naveen959/TSF/blob/main/TASK_1.ipynb\" target=\"_parent\"><img src=\"https://colab.research.google.com/assets/colab-badge.svg\" alt=\"Open In Colab\"/></a>"
      ]
    },
    {
      "cell_type": "markdown",
      "metadata": {
        "id": "_X8LLpAkbsj9"
      },
      "source": [
        "# **Name - T Naveen**\n",
        "\n",
        "# **GRIPS@ THE SPARKS FOUNDATION**\n",
        "\n",
        "# **TSF TASK 1 - PREDICTION USING SUPERVISED MACHINE LEARNING - LINEAR REGRESSION**"
      ]
    },
    {
      "cell_type": "markdown",
      "metadata": {
        "id": "EdXXb6d9chu5"
      },
      "source": [
        "**Import all the libraries required**\n",
        "\n",
        "\n",
        "1. Scikit learn\n",
        "2. Numpy arrays\n",
        "3. Pandas\n",
        "4. Matplotlib\n",
        "\n",
        "\n",
        "\n"
      ]
    },
    {
      "cell_type": "code",
      "metadata": {
        "id": "gbP2siUXeGmr"
      },
      "source": [
        "#Importing all the libraries required\n",
        "import pandas as pd\n",
        "import numpy as np\n",
        "import matplotlib.pyplot as plt\n",
        "%matplotlib inline"
      ],
      "execution_count": 22,
      "outputs": []
    },
    {
      "cell_type": "code",
      "metadata": {
        "colab": {
          "base_uri": "https://localhost:8080/",
          "height": 360
        },
        "id": "AQyQPjTYfKZ1",
        "outputId": "b34e62d5-b578-4b0c-8ec8-14c719f5849a"
      },
      "source": [
        "#Reading data from the given line\n",
        "url = \"http://bit.ly/w-data\"\n",
        "data = pd.read_csv(url)\n",
        "print('Data imported successfully')\n",
        "data.head(10)"
      ],
      "execution_count": 23,
      "outputs": [
        {
          "output_type": "stream",
          "text": [
            "Data imported successfully\n"
          ],
          "name": "stdout"
        },
        {
          "output_type": "execute_result",
          "data": {
            "text/html": [
              "<div>\n",
              "<style scoped>\n",
              "    .dataframe tbody tr th:only-of-type {\n",
              "        vertical-align: middle;\n",
              "    }\n",
              "\n",
              "    .dataframe tbody tr th {\n",
              "        vertical-align: top;\n",
              "    }\n",
              "\n",
              "    .dataframe thead th {\n",
              "        text-align: right;\n",
              "    }\n",
              "</style>\n",
              "<table border=\"1\" class=\"dataframe\">\n",
              "  <thead>\n",
              "    <tr style=\"text-align: right;\">\n",
              "      <th></th>\n",
              "      <th>Hours</th>\n",
              "      <th>Scores</th>\n",
              "    </tr>\n",
              "  </thead>\n",
              "  <tbody>\n",
              "    <tr>\n",
              "      <th>0</th>\n",
              "      <td>2.5</td>\n",
              "      <td>21</td>\n",
              "    </tr>\n",
              "    <tr>\n",
              "      <th>1</th>\n",
              "      <td>5.1</td>\n",
              "      <td>47</td>\n",
              "    </tr>\n",
              "    <tr>\n",
              "      <th>2</th>\n",
              "      <td>3.2</td>\n",
              "      <td>27</td>\n",
              "    </tr>\n",
              "    <tr>\n",
              "      <th>3</th>\n",
              "      <td>8.5</td>\n",
              "      <td>75</td>\n",
              "    </tr>\n",
              "    <tr>\n",
              "      <th>4</th>\n",
              "      <td>3.5</td>\n",
              "      <td>30</td>\n",
              "    </tr>\n",
              "    <tr>\n",
              "      <th>5</th>\n",
              "      <td>1.5</td>\n",
              "      <td>20</td>\n",
              "    </tr>\n",
              "    <tr>\n",
              "      <th>6</th>\n",
              "      <td>9.2</td>\n",
              "      <td>88</td>\n",
              "    </tr>\n",
              "    <tr>\n",
              "      <th>7</th>\n",
              "      <td>5.5</td>\n",
              "      <td>60</td>\n",
              "    </tr>\n",
              "    <tr>\n",
              "      <th>8</th>\n",
              "      <td>8.3</td>\n",
              "      <td>81</td>\n",
              "    </tr>\n",
              "    <tr>\n",
              "      <th>9</th>\n",
              "      <td>2.7</td>\n",
              "      <td>25</td>\n",
              "    </tr>\n",
              "  </tbody>\n",
              "</table>\n",
              "</div>"
            ],
            "text/plain": [
              "   Hours  Scores\n",
              "0    2.5      21\n",
              "1    5.1      47\n",
              "2    3.2      27\n",
              "3    8.5      75\n",
              "4    3.5      30\n",
              "5    1.5      20\n",
              "6    9.2      88\n",
              "7    5.5      60\n",
              "8    8.3      81\n",
              "9    2.7      25"
            ]
          },
          "metadata": {
            "tags": []
          },
          "execution_count": 23
        }
      ]
    },
    {
      "cell_type": "markdown",
      "metadata": {
        "id": "hnV_vLPegt-l"
      },
      "source": [
        "# **Input data visualisation**"
      ]
    },
    {
      "cell_type": "code",
      "metadata": {
        "colab": {
          "base_uri": "https://localhost:8080/",
          "height": 295
        },
        "id": "dCxhMPgghFri",
        "outputId": "752b20fa-29cd-4bce-b6a2-7c3dff81dedb"
      },
      "source": [
        "#Plotting the data\n",
        "data.plot(x=\"Hours\", y=\"Scores\", style='o')\n",
        "plt.title('Hours v/s percentage')\n",
        "plt.xlabel('Hours studied')\n",
        "plt.ylabel('Percentage Score')\n",
        "plt.show()"
      ],
      "execution_count": null,
      "outputs": [
        {
          "output_type": "display_data",
          "data": {
            "image/png": "[encoded data removed]",
            "text/plain": [
              "<Figure size 432x288 with 1 Axes>"
            ]
          },
          "metadata": {
            "tags": [],
            "needs_background": "light"
          }
        }
      ]
    },
    {
      "cell_type": "markdown",
      "metadata": {
        "id": "u3spQtxwisyx"
      },
      "source": [
        "# **Data** **Processing**"
      ]
    },
    {
      "cell_type": "code",
      "metadata": {
        "id": "PV81cztbi_bP"
      },
      "source": [
        "p=data.iloc[:,:-1].values\n",
        "q=data.iloc[:,1].values"
      ],
      "execution_count": null,
      "outputs": []
    },
    {
      "cell_type": "markdown",
      "metadata": {
        "id": "KYQssWbHjquO"
      },
      "source": [
        "# **Training** **the** **model**"
      ]
    },
    {
      "cell_type": "code",
      "metadata": {
        "id": "xoB5InNtjw4v"
      },
      "source": [
        "from sklearn.model_selection import train_test_split\n",
        "p_train, p_test, q_train, q_test = train_test_split(p, q, test_size=0.2, random_state=0)"
      ],
      "execution_count": null,
      "outputs": []
    },
    {
      "cell_type": "code",
      "metadata": {
        "colab": {
          "base_uri": "https://localhost:8080/"
        },
        "id": "I-PirIrxkYyC",
        "outputId": "1e1b4c6b-9948-4af6-9a9c-a07072c6df6b"
      },
      "source": [
        "from sklearn.linear_model import LinearRegression\n",
        "regression = LinearRegression() #Creating an object of linear regression\n",
        "regression.fit(p_train, q_train) #Fitting the model\n",
        "print('Training is completed')"
      ],
      "execution_count": null,
      "outputs": [
        {
          "output_type": "stream",
          "text": [
            "Training is completed\n"
          ],
          "name": "stdout"
        }
      ]
    },
    {
      "cell_type": "code",
      "metadata": {
        "colab": {
          "base_uri": "https://localhost:8080/",
          "height": 265
        },
        "id": "rtdKUKTqmPUU",
        "outputId": "6a6a8fd4-3ee7-498a-88ba-82fdc6643175"
      },
      "source": [
        "#Plotting the line of Regression\n",
        "req_line = regression.coef_*p + regression.intercept_\n",
        "\n",
        "#Plotting for the test data\n",
        "plt.scatter(p, q)\n",
        "plt.plot(p, req_line)\n",
        "plt.show()"
      ],
      "execution_count": null,
      "outputs": [
        {
          "output_type": "display_data",
          "data": {
            "image/png": "[encoded data removed]",
            "text/plain": [
              "<Figure size 432x288 with 1 Axes>"
            ]
          },
          "metadata": {
            "tags": [],
            "needs_background": "light"
          }
        }
      ]
    },
    {
      "cell_type": "code",
      "metadata": {
        "colab": {
          "base_uri": "https://localhost:8080/"
        },
        "id": "zzquSpwUorxC",
        "outputId": "03b75e2b-97c8-450d-b78c-4232d41f71a1"
      },
      "source": [
        "#To know the intercept\n",
        "print('Intercept is: ')\n",
        "print(regression.intercept_)"
      ],
      "execution_count": null,
      "outputs": [
        {
          "output_type": "stream",
          "text": [
            "Intercept is: \n",
            "2.018160041434662\n"
          ],
          "name": "stdout"
        }
      ]
    },
    {
      "cell_type": "code",
      "metadata": {
        "colab": {
          "base_uri": "https://localhost:8080/"
        },
        "id": "RIaQFrRopDps",
        "outputId": "9c18ae6c-31ac-4c8a-872e-5063f8d42d83"
      },
      "source": [
        "#To know the coefficient\n",
        "print('Coeffecient is: ')\n",
        "print(regression.coef_)"
      ],
      "execution_count": null,
      "outputs": [
        {
          "output_type": "stream",
          "text": [
            "Coeffecient is: \n",
            "[9.91065648]\n"
          ],
          "name": "stdout"
        }
      ]
    },
    {
      "cell_type": "markdown",
      "metadata": {
        "id": "gHaxZoTYphCR"
      },
      "source": [
        "**So, according to the above observations we can say that for every unit change in hours studied, the change in the score is about 9.91%**"
      ]
    },
    {
      "cell_type": "markdown",
      "metadata": {
        "id": "ke7W-5joqCaG"
      },
      "source": [
        "# **Making** **Predictions**"
      ]
    },
    {
      "cell_type": "code",
      "metadata": {
        "colab": {
          "base_uri": "https://localhost:8080/"
        },
        "id": "vCZik58vqLPM",
        "outputId": "101e6ca2-f4ae-44a6-9298-4a99e1f3d1a7"
      },
      "source": [
        "print(p_test) #Testing data\n",
        "q_pred = regression.predict(p_test) #Model prediction"
      ],
      "execution_count": null,
      "outputs": [
        {
          "output_type": "stream",
          "text": [
            "[[1.5]\n",
            " [3.2]\n",
            " [7.4]\n",
            " [2.5]\n",
            " [5.9]]\n"
          ],
          "name": "stdout"
        }
      ]
    },
    {
      "cell_type": "code",
      "metadata": {
        "colab": {
          "base_uri": "https://localhost:8080/",
          "height": 195
        },
        "id": "47MsmCu-lcQg",
        "outputId": "2d958bb0-d0b9-46cb-8db3-9f315af1841f"
      },
      "source": [
        "#Comparing Actual v/s Predicted\n",
        "df = pd.DataFrame({'Actual' : q_test, 'Predicted' : q_pred})\n",
        "df "
      ],
      "execution_count": null,
      "outputs": [
        {
          "output_type": "execute_result",
          "data": {
            "text/html": [
              "<div>\n",
              "<style scoped>\n",
              "    .dataframe tbody tr th:only-of-type {\n",
              "        vertical-align: middle;\n",
              "    }\n",
              "\n",
              "    .dataframe tbody tr th {\n",
              "        vertical-align: top;\n",
              "    }\n",
              "\n",
              "    .dataframe thead th {\n",
              "        text-align: right;\n",
              "    }\n",
              "</style>\n",
              "<table border=\"1\" class=\"dataframe\">\n",
              "  <thead>\n",
              "    <tr style=\"text-align: right;\">\n",
              "      <th></th>\n",
              "      <th>Actual</th>\n",
              "      <th>Predicted</th>\n",
              "    </tr>\n",
              "  </thead>\n",
              "  <tbody>\n",
              "    <tr>\n",
              "      <th>0</th>\n",
              "      <td>20</td>\n",
              "      <td>16.884145</td>\n",
              "    </tr>\n",
              "    <tr>\n",
              "      <th>1</th>\n",
              "      <td>27</td>\n",
              "      <td>33.732261</td>\n",
              "    </tr>\n",
              "    <tr>\n",
              "      <th>2</th>\n",
              "      <td>69</td>\n",
              "      <td>75.357018</td>\n",
              "    </tr>\n",
              "    <tr>\n",
              "      <th>3</th>\n",
              "      <td>30</td>\n",
              "      <td>26.794801</td>\n",
              "    </tr>\n",
              "    <tr>\n",
              "      <th>4</th>\n",
              "      <td>62</td>\n",
              "      <td>60.491033</td>\n",
              "    </tr>\n",
              "  </tbody>\n",
              "</table>\n",
              "</div>"
            ],
            "text/plain": [
              "   Actual  Predicted\n",
              "0      20  16.884145\n",
              "1      27  33.732261\n",
              "2      69  75.357018\n",
              "3      30  26.794801\n",
              "4      62  60.491033"
            ]
          },
          "metadata": {
            "tags": []
          },
          "execution_count": 11
        }
      ]
    },
    {
      "cell_type": "code",
      "metadata": {
        "colab": {
          "base_uri": "https://localhost:8080/",
          "height": 316
        },
        "id": "RiAaY9lKnH9g",
        "outputId": "87ea837a-b9ca-424d-d5e3-045dbd328641"
      },
      "source": [
        "df.plot(kind = 'bar', figsize=(5,5))\n",
        "plt.grid(linewidth='0.5', color='red')"
      ],
      "execution_count": null,
      "outputs": [
        {
          "output_type": "display_data",
          "data": {
            "image/png": "[encoded data removed]",
            "text/plain": [
              "<Figure size 360x360 with 1 Axes>"
            ]
          },
          "metadata": {
            "tags": [],
            "needs_background": "light"
          }
        }
      ]
    },
    {
      "cell_type": "code",
      "metadata": {
        "colab": {
          "base_uri": "https://localhost:8080/"
        },
        "id": "GoUq1YKgofq1",
        "outputId": "b7e4c9ef-0ed1-44e5-8a5d-60cfc19adb38"
      },
      "source": [
        "#Testing with my data\n",
        "my_hours = 8.50\n",
        "prediction = regression.predict([[8.50]])\n",
        "print('Number of hours: ',my_hours)\n",
        "print('Prediction score: ',prediction[0])"
      ],
      "execution_count": null,
      "outputs": [
        {
          "output_type": "stream",
          "text": [
            "Number of hours:  8.5\n",
            "Prediction score:  86.25874012689371\n"
          ],
          "name": "stdout"
        }
      ]
    },
    {
      "cell_type": "markdown",
      "metadata": {
        "id": "K85AFc5S2NOb"
      },
      "source": [
        "# **Evaluating** **the** **Algorithm**"
      ]
    },
    {
      "cell_type": "code",
      "metadata": {
        "colab": {
          "base_uri": "https://localhost:8080/"
        },
        "id": "3GQzEXzG2Wat",
        "outputId": "ea742c1c-cff3-44df-f23a-692ea65f0fdd"
      },
      "source": [
        "from sklearn import metrics\n",
        "print('Mean Absolute Error: ',metrics.mean_absolute_error(q_test,q_pred))\n",
        "print('Mean Squared Error: ',metrics.mean_squared_error(q_test,q_pred))\n",
        "print('Root Mean Squared Error: ',np.sqrt(metrics.mean_squared_error(q_test,q_pred)))\n",
        "print('R Square: ',metrics.r2_score(q_test,q_pred))"
      ],
      "execution_count": null,
      "outputs": [
        {
          "output_type": "stream",
          "text": [
            "Mean Absolute Error:  4.183859899002982\n",
            "Mean Squared Error:  21.598769307217456\n",
            "Root Mean Squared Error:  4.647447612100373\n",
            "R Square:  0.9454906892105354\n"
          ],
          "name": "stdout"
        }
      ]
    },
    {
      "cell_type": "markdown",
      "metadata": {
        "id": "2aevrLOD30as"
      },
      "source": [
        "# **CONCLUSION:-**\n",
        "\n",
        "#**I SUCCESSFULLY COMPLETED THE GIVEN TASK**\n",
        "\n",
        "#**THANK YOU!!!**"
      ]
    }
  ]
}